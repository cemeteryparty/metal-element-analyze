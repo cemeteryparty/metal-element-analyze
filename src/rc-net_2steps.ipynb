{
  "nbformat": 4,
  "nbformat_minor": 0,
  "metadata": {
    "colab": {
      "name": "0716085.ipynb",
      "provenance": [],
      "collapsed_sections": []
    },
    "kernelspec": {
      "name": "python3",
      "display_name": "Python 3"
    },
    "language_info": {
      "name": "python"
    }
  },
  "cells": [
    {
      "cell_type": "code",
      "metadata": {
        "id": "XaKe0_qVqbYE",
        "colab": {
          "base_uri": "https://localhost:8080/"
        },
        "outputId": "b970aa24-39a3-4cb7-b91f-77778a452da5"
      },
      "source": [
        "!ls -al /content/drive/MyDrive/NYCU_Intro2DL/midterm/\n",
        "#!nvidia-smi"
      ],
      "execution_count": null,
      "outputs": [
        {
          "output_type": "stream",
          "text": [
            "total 212468\n",
            "-rw------- 1 root root     53595 May  6 04:16 0716085.ipynb\n",
            "-rw------- 1 root root      1635 Mar 30 07:33 example.ipynb\n",
            "-rw------- 1 root root 217497600 Apr 18 03:46 image.csv\n",
            "-rw------- 1 root root      4663 Mar 30 07:33 label.csv\n",
            "drwx------ 2 root root      4096 Apr 16 12:16 mymodel\n",
            "drwx------ 2 root root      4096 Apr  8 06:47 photos\n"
          ],
          "name": "stdout"
        }
      ]
    },
    {
      "cell_type": "code",
      "metadata": {
        "id": "BIw-3xG5rCws"
      },
      "source": [
        "from sklearn.model_selection import train_test_split\n",
        "from tensorflow.keras import utils\n",
        "from tensorflow.keras.models import Model, load_model\n",
        "from tensorflow.keras.layers import Dense, Dropout\n",
        "from tensorflow.keras.layers import Conv2D, MaxPooling2D\n",
        "from tensorflow.keras.layers import SeparableConv2D, DepthwiseConv2D\n",
        "from tensorflow.keras.layers import BatchNormalization, Lambda\n",
        "from tensorflow.keras.layers import Multiply\n",
        "from tensorflow.keras.regularizers import l1, l2\n",
        "from tensorflow.keras.layers import Input, Flatten\n",
        "from tensorflow.keras.losses import MeanAbsoluteError\n",
        "from tensorflow.keras.optimizers import SGD, Adam\n",
        "from tensorflow.keras import backend as K\n",
        "from matplotlib import pyplot as plt\n",
        "from PIL import Image\n",
        "import pandas as pd\n",
        "import numpy as np\n",
        "import time, os\n",
        "\n",
        "base_path = \"/content/drive/MyDrive/NYCU_Intro2DL/midterm/\"\n",
        "# gradeset: https://drive.google.com/drive/folders/1Qo7aQWCeqEmgRQ3pFRDIZWHbiQdIsxhz"
      ],
      "execution_count": null,
      "outputs": []
    },
    {
      "cell_type": "code",
      "metadata": {
        "id": "ZLFFowbOchDF"
      },
      "source": [
        "def RC_Net(Shape = (64, 64, 3)):\n",
        "    inputs = Input(shape = Shape)\n",
        "    reg = Lambda(lambda x: x / 255)(inputs) # regularization\n",
        "    b1 = Conv2D(64, (8, 8), activation = \"relu\", padding = \"valid\")(reg)\n",
        "    b1 = MaxPooling2D((3, 3), strides = (1, 1), padding = \"valid\")(b1)\n",
        "    b1 = Conv2D(32, (5, 5), activation = \"relu\", padding = \"valid\")(b1)\n",
        "    b1 = MaxPooling2D((3, 3), strides = (2, 1), padding = \"valid\")(b1)\n",
        "\n",
        "    b2 = Conv2D(16, (3, 3), activation = \"relu\", padding = \"valid\")(b1)\n",
        "    b2 = MaxPooling2D((3, 3), strides = (1, 1), padding = \"valid\")(b2)\n",
        "    b2 = Conv2D(16, (3, 3), activation = \"relu\", padding = \"valid\")(b2)\n",
        "    b2 = MaxPooling2D((3, 3), strides = (1, 1), padding = \"valid\")(b2)\n",
        "    b2 = Conv2D(8, (3, 3), activation = \"relu\", padding = \"valid\")(b2)\n",
        "    b2 = MaxPooling2D((3, 3), strides = (1, 1), padding = \"valid\")(b2)\n",
        "\n",
        "    flat = Flatten()(b2)\n",
        "    b3 = Dense(units = 64, activation = \"relu\")(flat)\n",
        "    b3 = Dropout(rate = 0.5)(b3)\n",
        "    b3 = Dense(units = 32, activation = \"relu\")(b3)\n",
        "    b3 = Dropout(rate = 0.5)(b3)\n",
        "    outputs = Dense(units = 3, activation = \"relu\")(b3)\n",
        "\n",
        "    return Model(inputs = inputs, outputs = outputs, name = \"RC-Net\")"
      ],
      "execution_count": null,
      "outputs": []
    },
    {
      "cell_type": "code",
      "metadata": {
        "id": "o6YHQ82L65fi",
        "colab": {
          "base_uri": "https://localhost:8080/"
        },
        "outputId": "5736f54c-338f-4d30-cd22-7f36ee6bfdc1"
      },
      "source": [
        "\"\"\" Read Dataset \"\"\"\n",
        "if not os.path.isfile(base_path + \"image.npy\"):\n",
        "    file_list = []\n",
        "    for root, dirs, files in os.walk(base_path + \"photos\"):\n",
        "        for file in files:\n",
        "            filename = os.path.join(root, file)\n",
        "            file_list.append(filename)\n",
        "    file_list.sort()\n",
        "    img_list = []\n",
        "    size = (128, 128)\n",
        "    for i in range(len(file_list)):\n",
        "        im = Image.open(file_list[i])\n",
        "        im = im.resize(size, Image.BILINEAR)\n",
        "        imarray = np.array(im)\n",
        "        img_list.append(imarray)\n",
        "    x = np.asarray(img_list)\n",
        "    np.save(base_path + \"image.npy\", x)\n",
        "else:\n",
        "    x = np.load(base_path + \"image.npy\")\n",
        "y = pd.read_csv(base_path + \"label.csv\", encoding = 'big5')\n",
        "y = y.drop(columns = \"file name\").values\n",
        "\n",
        "print(x.shape, y.shape)"
      ],
      "execution_count": null,
      "outputs": [
        {
          "output_type": "stream",
          "text": [
            "(177, 128, 128, 3) (177, 3)\n"
          ],
          "name": "stdout"
        }
      ]
    },
    {
      "cell_type": "code",
      "metadata": {
        "colab": {
          "base_uri": "https://localhost:8080/"
        },
        "id": "TKZuwGozK98o",
        "outputId": "225c8a28-f868-4610-dced-0660d0cd8547"
      },
      "source": [
        "\"\"\" Data Augmentation: sampling in dataset, and do some proc to img \"\"\" \n",
        "x_set = x\n",
        "y_set = y / [100.0, 1000.0, 1000.0] # regularization to label\n",
        "x_train, y_train = x_set, y_set\n",
        "# 90 degree\n",
        "x_tmp, x_part, y_tmp, y_part = train_test_split(x_set, y_set, test_size = 0.15)\n",
        "for i in range(x_part.shape[0]):\n",
        "\tx_part[i] = np.rot90(x_part[i], k = 1)\n",
        "x_train = np.append(x_train, x_part, axis = 0)\n",
        "y_train = np.append(y_train, y_part, axis = 0)\n",
        "# 180 degree\n",
        "x_tmp, x_part, y_tmp, y_part = train_test_split(x_set, y_set, test_size = 0.15)\n",
        "for i in range(x_part.shape[0]):\n",
        "\tx_part[i] = np.rot90(x_part[i], k = 2)\n",
        "x_train = np.append(x_train, x_part, axis = 0)\n",
        "y_train = np.append(y_train, y_part, axis = 0)\n",
        "# 270 degree\n",
        "x_tmp, x_part, y_tmp, y_part = train_test_split(x_set, y_set, test_size = 0.15)\n",
        "for i in range(x_part.shape[0]):\n",
        "\tx_part[i] = np.rot90(x_part[i], k = 3)\n",
        "x_train = np.append(x_train, x_part, axis = 0)\n",
        "y_train = np.append(y_train, y_part, axis = 0)\n",
        "# lr flip\n",
        "x_tmp, x_part, y_tmp, y_part = train_test_split(x_set, y_set, test_size = 0.15)\n",
        "for i in range(x_part.shape[0]):\n",
        "\tx_part[i] = np.flip(x_part[i], axis = 1)\n",
        "x_train = np.append(x_train, x_part, axis = 0)\n",
        "y_train = np.append(y_train, y_part, axis = 0)\n",
        "# up flip\n",
        "x_tmp, x_part, y_tmp, y_part = train_test_split(x_set, y_set, test_size = 0.15)\n",
        "for i in range(x_part.shape[0]):\n",
        "\tx_part[i] = np.flip(x_part[i], axis = 0)\n",
        "x_train = np.append(x_train, x_part, axis = 0)\n",
        "y_train = np.append(y_train, y_part, axis = 0)\n",
        "print(x_train.shape, y_train.shape)"
      ],
      "execution_count": null,
      "outputs": [
        {
          "output_type": "stream",
          "text": [
            "(312, 128, 128, 3) (312, 3)\n"
          ],
          "name": "stdout"
        }
      ]
    },
    {
      "cell_type": "code",
      "metadata": {
        "colab": {
          "base_uri": "https://localhost:8080/"
        },
        "id": "kBozlxFzMa6x",
        "outputId": "4b74694a-f46c-49ff-93d7-355544079a39"
      },
      "source": [
        "\"\"\" Train, Test Split \"\"\"\n",
        "x_train, x_test, y_train, y_test = train_test_split(x_train, y_train, test_size = 0.2)\n",
        "print(x_train.shape, y_train.shape)\n",
        "print(x_test.shape, y_test.shape)"
      ],
      "execution_count": null,
      "outputs": [
        {
          "output_type": "stream",
          "text": [
            "(249, 128, 128, 3) (249, 3)\n",
            "(63, 128, 128, 3) (63, 3)\n"
          ],
          "name": "stdout"
        }
      ]
    },
    {
      "cell_type": "code",
      "metadata": {
        "id": "8H14ZibSjIQq",
        "colab": {
          "base_uri": "https://localhost:8080/"
        },
        "outputId": "6588ca4f-0e19-41e6-e0e2-79ce10e72b7c"
      },
      "source": [
        "model = RC_Net(Shape = (128, 128, 3))\n",
        "model.summary()\n",
        "model.compile(loss = MeanAbsoluteError(), optimizer = Adam(lr = 0.001), metrics = [\"acc\"])"
      ],
      "execution_count": null,
      "outputs": [
        {
          "output_type": "stream",
          "text": [
            "Model: \"RC-Net\"\n",
            "_________________________________________________________________\n",
            "Layer (type)                 Output Shape              Param #   \n",
            "=================================================================\n",
            "input_3 (InputLayer)         [(None, 128, 128, 3)]     0         \n",
            "_________________________________________________________________\n",
            "lambda_1 (Lambda)            (None, 128, 128, 3)       0         \n",
            "_________________________________________________________________\n",
            "conv2d_5 (Conv2D)            (None, 121, 121, 64)      12352     \n",
            "_________________________________________________________________\n",
            "max_pooling2d_5 (MaxPooling2 (None, 119, 119, 64)      0         \n",
            "_________________________________________________________________\n",
            "conv2d_6 (Conv2D)            (None, 115, 115, 32)      51232     \n",
            "_________________________________________________________________\n",
            "max_pooling2d_6 (MaxPooling2 (None, 57, 113, 32)       0         \n",
            "_________________________________________________________________\n",
            "conv2d_7 (Conv2D)            (None, 55, 111, 16)       4624      \n",
            "_________________________________________________________________\n",
            "max_pooling2d_7 (MaxPooling2 (None, 53, 109, 16)       0         \n",
            "_________________________________________________________________\n",
            "conv2d_8 (Conv2D)            (None, 51, 107, 16)       2320      \n",
            "_________________________________________________________________\n",
            "max_pooling2d_8 (MaxPooling2 (None, 49, 105, 16)       0         \n",
            "_________________________________________________________________\n",
            "conv2d_9 (Conv2D)            (None, 47, 103, 8)        1160      \n",
            "_________________________________________________________________\n",
            "max_pooling2d_9 (MaxPooling2 (None, 45, 101, 8)        0         \n",
            "_________________________________________________________________\n",
            "flatten_1 (Flatten)          (None, 36360)             0         \n",
            "_________________________________________________________________\n",
            "dense_6 (Dense)              (None, 64)                2327104   \n",
            "_________________________________________________________________\n",
            "dropout_4 (Dropout)          (None, 64)                0         \n",
            "_________________________________________________________________\n",
            "dense_7 (Dense)              (None, 32)                2080      \n",
            "_________________________________________________________________\n",
            "dropout_5 (Dropout)          (None, 32)                0         \n",
            "_________________________________________________________________\n",
            "dense_8 (Dense)              (None, 3)                 99        \n",
            "=================================================================\n",
            "Total params: 2,400,971\n",
            "Trainable params: 2,400,971\n",
            "Non-trainable params: 0\n",
            "_________________________________________________________________\n"
          ],
          "name": "stdout"
        }
      ]
    },
    {
      "cell_type": "code",
      "metadata": {
        "id": "jBA1tZfEm44b"
      },
      "source": [
        "history = model.fit(x_train, y_train, batch_size = 32, epochs = 50, \n",
        "    shuffle = True, validation_data = (x_test, y_test))"
      ],
      "execution_count": null,
      "outputs": []
    },
    {
      "cell_type": "code",
      "metadata": {
        "colab": {
          "base_uri": "https://localhost:8080/",
          "height": 332
        },
        "id": "SFHY-dcGMeN3",
        "outputId": "6a567395-2e0d-4e69-c6ab-77b2e6b7bd02"
      },
      "source": [
        "result_train = model.evaluate(x_train, y_train)\n",
        "print(f\"Train Acc: {result_train[1]}\\tTrain Loss: {result_train[0]}\")\n",
        "result_test = model.evaluate(x_test, y_test)\n",
        "print(f\"Test Acc: {result_test[1]}\\tTrain Loss: {result_test[0]}\")\n",
        "\n",
        "plt.figure(figsize = (10, 4))\n",
        "plt.subplot(1, 2, 1)\n",
        "plt.plot(history.history[\"acc\"], color = \"red\")\n",
        "plt.plot(history.history[\"val_acc\"], color = \"blue\")\n",
        "plt.subplot(1, 2, 2)\n",
        "plt.plot(history.history[\"loss\"], color = \"red\")\n",
        "plt.plot(history.history[\"val_loss\"], color = \"blue\")\n",
        "plt.show()"
      ],
      "execution_count": null,
      "outputs": [
        {
          "output_type": "stream",
          "text": [
            "8/8 [==============================] - 0s 25ms/step - loss: 0.5465 - acc: 0.8835\n",
            "Train Acc: 0.8835341334342957\tTrain Loss: 0.5465059280395508\n",
            "2/2 [==============================] - 0s 23ms/step - loss: 0.5231 - acc: 0.8571\n",
            "Test Acc: 0.8571428656578064\tTrain Loss: 0.5231279134750366\n"
          ],
          "name": "stdout"
        },
        {
          "output_type": "display_data",
          "data": {
            "image/png": "[encoded data removed]",
            "text/plain": [
              "<Figure size 720x288 with 2 Axes>"
            ]
          },
          "metadata": {
            "tags": [],
            "needs_background": "light"
          }
        }
      ]
    },
    {
      "cell_type": "code",
      "metadata": {
        "id": "jCI9srZ3G1Ye"
      },
      "source": [
        "model.save(base_path + f\"mymodel/0716085_front.h5py\")"
      ],
      "execution_count": null,
      "outputs": []
    },
    {
      "cell_type": "code",
      "metadata": {
        "id": "RrKbCNI7LQGS"
      },
      "source": [
        "\"\"\" Revise the effect of label's regularization \"\"\"\n",
        "def RC_Net_T(Shape = (64, 64, 1)):\n",
        "    front_model = load_model(base_path + \"mymodel/0716085_front.h5py\")\n",
        "    front_model.trainable = False\n",
        "    inputs = Input(shape = Shape)\n",
        "    block = front_model(inputs, training = False)\n",
        "    block = Dense(units = 2048, activation = \"relu\")(block)\n",
        "    block = Dropout(rate = 0.5)(block)\n",
        "    block = Dense(units = 2048, activation = \"relu\")(block)\n",
        "    block = Dropout(rate = 0.5)(block)\n",
        "    outputs = Dense(units = 3, activation = \"relu\")(block)\n",
        "    return Model(inputs = inputs, outputs = outputs, name = \"RC-Net_2steps\")\n",
        "\n",
        "model_t = RC_Net_T(Shape = (128, 128, 3))\n",
        "model_t.summary()\n",
        "model_t.compile(loss = MeanAbsoluteError(), optimizer = Adam(lr = 0.001), metrics = [\"acc\"])\n",
        "history = model_t.fit(x, y, batch_size = 32, epochs = 50)"
      ],
      "execution_count": null,
      "outputs": []
    },
    {
      "cell_type": "code",
      "metadata": {
        "colab": {
          "base_uri": "https://localhost:8080/",
          "height": 301
        },
        "id": "E2leWeXQMREA",
        "outputId": "50863242-38ec-44f0-f761-a9df5876d8f1"
      },
      "source": [
        "eva = model_t.evaluate(x, y)\n",
        "print(f\"Acc: {eva[1]}\\tLoss: {eva[0]}\")\n",
        "plt.figure(figsize = (10, 4))\n",
        "plt.subplot(1, 2, 1)\n",
        "plt.plot(history.history[\"acc\"], color = \"red\")\n",
        "plt.subplot(1, 2, 2)\n",
        "plt.plot(history.history[\"loss\"], color = \"red\")\n",
        "plt.show()"
      ],
      "execution_count": null,
      "outputs": [
        {
          "output_type": "stream",
          "text": [
            "6/6 [==============================] - 0s 25ms/step - loss: 461.0605 - acc: 0.8701\n",
            "Acc: 0.8700565099716187\tLoss: 461.0605163574219\n"
          ],
          "name": "stdout"
        },
        {
          "output_type": "display_data",
          "data": {
            "image/png": "[encoded data removed]",
            "text/plain": [
              "<Figure size 720x288 with 2 Axes>"
            ]
          },
          "metadata": {
            "tags": [],
            "needs_background": "light"
          }
        }
      ]
    },
    {
      "cell_type": "code",
      "metadata": {
        "id": "DIkFeCuOS78t"
      },
      "source": [
        "pred = model_t.predict(x)\n",
        "for k in range(pred.shape[0]):\n",
        "    print(f\"{pred[k]}  {y[k]}\")"
      ],
      "execution_count": null,
      "outputs": []
    },
    {
      "cell_type": "code",
      "metadata": {
        "id": "RIm_5BYQE6V8"
      },
      "source": [
        "model_t.save(base_path + \"mymodel/0716085.h5py\")"
      ],
      "execution_count": null,
      "outputs": []
    },
    {
      "cell_type": "code",
      "metadata": {
        "id": "7YB4Uj0NLyUp"
      },
      "source": [
        "\"\"\" double check \"\"\"\n",
        "mymodel = load_model(base_path + \"mymodel/0716085.h5py\")\n",
        "eva = mymodel.evaluate(x, y)\n",
        "print(f\"Acc: {eva[1]}\\tLoss: {eva[0]}\")\n",
        "pred = mymodel.predict(x)\n",
        "for k in range(pred.shape[0]):\n",
        "    print(f\"{pred[k]}  {y[k]}\")"
      ],
      "execution_count": null,
      "outputs": []
    }
  ]
}